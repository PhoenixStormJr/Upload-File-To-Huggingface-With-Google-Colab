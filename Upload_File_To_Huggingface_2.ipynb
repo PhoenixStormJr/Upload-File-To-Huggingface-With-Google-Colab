{
  "nbformat": 4,
  "nbformat_minor": 0,
  "metadata": {
    "colab": {
      "private_outputs": true,
      "provenance": [],
      "include_colab_link": true
    },
    "kernelspec": {
      "name": "python3",
      "display_name": "Python 3"
    },
    "language_info": {
      "name": "python"
    }
  },
  "cells": [
    {
      "cell_type": "markdown",
      "metadata": {
        "id": "view-in-github",
        "colab_type": "text"
      },
      "source": [
        "<a href=\"https://colab.research.google.com/github/PhoenixStormJr/Upload-File-To-Huggingface-With-Google-Colab/blob/main/Upload_File_To_Huggingface_2.ipynb\" target=\"_parent\"><img src=\"https://colab.research.google.com/assets/colab-badge.svg\" alt=\"Open In Colab\"/></a>"
      ]
    },
    {
      "cell_type": "markdown",
      "source": [
        "Huggingface sometimes doesn't allow you to upload files. See the error posted here: https://discuss.huggingface.co/t/cant-upload-my-model-stuck-on-hashing/106539\n",
        "\n",
        "See the github repository here: https://github.com/PhoenixStormJr/Upload-File-To-Huggingface-With-Google-Colab\n",
        "\n",
        "You can use this repository until Huggingface fixes the error on their website."
      ],
      "metadata": {
        "id": "AyRda-hwAzxG"
      }
    },
    {
      "cell_type": "code",
      "source": [
        "#@title upload file to hugging face\n",
        "\n",
        "#@markdown get your hf token in https://huggingface.co/settings/tokens\n",
        "HF_TOKEN = \"\" #@param {type:\"string\"}\n",
        "#@markdown Your repo_id is the name of your username + whatever you want to name the folder where it will be saved  🤗\n",
        "repo_id = \"PhoenixStormJr/Megaman-NT-Warrior-Aki-RVC\" #@param {type:\"string\"}\n",
        "\n",
        "!rm -r /content/Uploaded\n",
        "!mkdir -p /content/Uploaded\n",
        "%cd /content/Uploaded\n",
        "\n",
        "\n",
        "from google.colab import files\n",
        "uploaded = files.upload()\n",
        "fileUploaded = list(uploaded.keys())[0]\n",
        "print(fileUploaded)\n",
        "\n",
        "\n",
        "import os\n",
        "import zipfile\n",
        "from huggingface_hub import HfApi, create_repo, login\n",
        "\n",
        "login(HF_TOKEN)\n",
        "\n",
        "try:\n",
        "    create_repo(repo_id)\n",
        "except:\n",
        "    print(\"Error creating repo, proceeding...\")\n",
        "\n",
        "api = HfApi()\n",
        "api.upload_file(\n",
        "    path_or_fileobj=f\"/content/Uploaded/{fileUploaded}\",\n",
        "    path_in_repo=f\"{fileUploaded}\",\n",
        "    repo_id=repo_id,\n",
        "    repo_type=\"model\",\n",
        ")\n"
      ],
      "metadata": {
        "id": "VahsgKtjCtWG"
      },
      "execution_count": null,
      "outputs": []
    }
  ]
}